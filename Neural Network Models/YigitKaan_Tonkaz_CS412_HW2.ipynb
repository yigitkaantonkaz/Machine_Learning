{
  "cells": [
    {
      "cell_type": "markdown",
      "metadata": {
        "id": "5xGUhi241MqG"
      },
      "source": [
        "# CS 412 Homework 2"
      ]
    },
    {
      "cell_type": "markdown",
      "metadata": {
        "id": "NgQ50lDrqyI2"
      },
      "source": [
        "## Import Libraries\n",
        "The libraries used in this homework are already preinstalled in Google Colab. If you are working locally, make sure to create a virtual environment and install the required libraries there."
      ]
    },
    {
      "cell_type": "code",
      "execution_count": null,
      "metadata": {
        "id": "nxLzIUEa1GZd",
        "colab": {
          "base_uri": "https://localhost:8080/"
        },
        "outputId": "f099fe88-a7b1-40e5-bdd6-9b30814c3467"
      },
      "outputs": [
        {
          "output_type": "stream",
          "name": "stderr",
          "text": [
            "[nltk_data] Downloading package punkt to /root/nltk_data...\n",
            "[nltk_data]   Package punkt is already up-to-date!\n",
            "[nltk_data] Downloading package stopwords to /root/nltk_data...\n",
            "[nltk_data]   Package stopwords is already up-to-date!\n"
          ]
        },
        {
          "output_type": "execute_result",
          "data": {
            "text/plain": [
              "True"
            ]
          },
          "metadata": {},
          "execution_count": 69
        }
      ],
      "source": [
        "import pandas as pd\n",
        "import numpy as np\n",
        "import matplotlib.pyplot as plt\n",
        "from bs4 import BeautifulSoup\n",
        "import nltk\n",
        "\n",
        "nltk.download(\"punkt\")\n",
        "nltk.download(\"stopwords\")"
      ]
    },
    {
      "cell_type": "markdown",
      "metadata": {
        "id": "nrC-jQzS-Pli"
      },
      "source": [
        "## Load data"
      ]
    },
    {
      "cell_type": "code",
      "execution_count": null,
      "metadata": {
        "id": "2ge7pX4yIW2j",
        "colab": {
          "base_uri": "https://localhost:8080/",
          "height": 105
        },
        "outputId": "a845d26f-ad2e-44b8-db96-de7ef24dcbe9"
      },
      "outputs": [
        {
          "output_type": "stream",
          "name": "stderr",
          "text": [
            "Downloading...\n",
            "From: https://drive.google.com/uc?id=1qWmgoMgr56hpCEjJe0XQ-K46-yMpFhVS\n",
            "To: /content/imdb_dataset.csv\n",
            "100%|██████████| 66.2M/66.2M [00:00<00:00, 75.7MB/s]\n"
          ]
        },
        {
          "output_type": "execute_result",
          "data": {
            "text/plain": [
              "'imdb_dataset.csv'"
            ],
            "application/vnd.google.colaboratory.intrinsic+json": {
              "type": "string"
            }
          },
          "metadata": {},
          "execution_count": 70
        }
      ],
      "source": [
        "# Downloading data\n",
        "import gdown\n",
        "data_url = \"https://drive.google.com/uc?id=1qWmgoMgr56hpCEjJe0XQ-K46-yMpFhVS\"\n",
        "save_path = \"imdb_dataset.csv\"\n",
        "gdown.download(data_url, save_path)"
      ]
    },
    {
      "cell_type": "code",
      "execution_count": null,
      "metadata": {
        "id": "8EbbBMGUIrrr"
      },
      "outputs": [],
      "source": [
        "df = pd.read_csv(\"imdb_dataset.csv\")"
      ]
    },
    {
      "cell_type": "markdown",
      "metadata": {
        "id": "5LNWT1YU-Mx-"
      },
      "source": [
        "## **1. Preproces text data** (30 pts)\n",
        "In this section, you have to preprocess the text data in order to convert it to a numerical representation that can be passed to machine learning models."
      ]
    },
    {
      "cell_type": "markdown",
      "metadata": {
        "id": "gy5DxN7xCHPa"
      },
      "source": [
        "### 1.1 **Remove HTML**\n",
        "Since these reviews were scraped from the internet, some of them still have some HTML tags (like \\<a> or \\<br>). These tags do not have any semantic meaning. Therefore, we have to remove them to avoid having noise in our data. Otherwise, the model will assume that these are words that have meanings. Here is one example of HTML tags in our data:"
      ]
    },
    {
      "cell_type": "code",
      "execution_count": null,
      "metadata": {
        "id": "3nEDD7NCC4bx",
        "colab": {
          "base_uri": "https://localhost:8080/",
          "height": 140
        },
        "outputId": "724619f6-c423-46ec-a34e-0f9d71ea48ea"
      },
      "outputs": [
        {
          "output_type": "execute_result",
          "data": {
            "text/plain": [
              "'A wonderful little production. <br /><br />The filming technique is very unassuming- very old-time-BBC fashion and gives a comforting, and sometimes discomforting, sense of realism to the entire piece. <br /><br />The actors are extremely well chosen- Michael Sheen not only \"has got all the polari\" but he has all the voices down pat too! You can truly see the seamless editing guided by the references to Williams\\' diary entries, not only is it well worth the watching but it is a terrificly written and performed piece. A masterful production about one of the great master\\'s of comedy and his life. <br /><br />The realism really comes home with the little things: the fantasy of the guard which, rather than use the traditional \\'dream\\' techniques remains solid then disappears. It plays on our knowledge and our senses, particularly with the scenes concerning Orton and Halliwell and the sets (particularly of their flat with Halliwell\\'s murals decorating every surface) are terribly well done.'"
            ],
            "application/vnd.google.colaboratory.intrinsic+json": {
              "type": "string"
            }
          },
          "metadata": {},
          "execution_count": 72
        }
      ],
      "source": [
        "df.loc[1, 'review']"
      ]
    },
    {
      "cell_type": "code",
      "execution_count": null,
      "metadata": {
        "id": "3TOLq2eyJNKy",
        "colab": {
          "base_uri": "https://localhost:8080/"
        },
        "outputId": "7d714f71-4d56-4cd1-c0e7-31e2e359e306"
      },
      "outputs": [
        {
          "output_type": "stream",
          "name": "stderr",
          "text": [
            "<ipython-input-73-00a77052a591>:3: MarkupResemblesLocatorWarning: The input looks more like a filename than markup. You may want to open this file and pass the filehandle into Beautiful Soup.\n",
            "  soup = BeautifulSoup(text, \"html.parser\")\n"
          ]
        },
        {
          "output_type": "stream",
          "name": "stdout",
          "text": [
            "A wonderful little production. The filming technique is very unassuming- very old-time-BBC fashion and gives a comforting, and sometimes discomforting, sense of realism to the entire piece. The actors are extremely well chosen- Michael Sheen not only \"has got all the polari\" but he has all the voices down pat too! You can truly see the seamless editing guided by the references to Williams' diary entries, not only is it well worth the watching but it is a terrificly written and performed piece. A masterful production about one of the great master's of comedy and his life. The realism really comes home with the little things: the fantasy of the guard which, rather than use the traditional 'dream' techniques remains solid then disappears. It plays on our knowledge and our senses, particularly with the scenes concerning Orton and Halliwell and the sets (particularly of their flat with Halliwell's murals decorating every surface) are terribly well done.\n"
          ]
        }
      ],
      "source": [
        "# Remove HTML\n",
        "def remove_html_tags(text):\n",
        "    soup = BeautifulSoup(text, \"html.parser\")\n",
        "    return soup.get_text()\n",
        "\n",
        "df['review'] = df['review'].apply(remove_html_tags)\n",
        "\n",
        "print(df.loc[1, 'review'])\n",
        "#df.to_csv('imdb_dataset_cleaned.csv', index=False)"
      ]
    },
    {
      "cell_type": "markdown",
      "metadata": {
        "id": "cJHkc3ZvG3NA"
      },
      "source": [
        "### 1.2 **Converting text to lowercase**\n",
        "\n",
        "In text analysis, we usually convert text to lowercase to avoid having a very large vocabulary. For instance, if we do not convert the text to lowercase, the model will treat \"apple\", \"Apple\", and \"APPLE\" as completely different words. This way the number of words that the model has to know (which we call vocabulary) becomes very large."
      ]
    },
    {
      "cell_type": "code",
      "execution_count": null,
      "metadata": {
        "id": "CSztuMchJL_Y"
      },
      "outputs": [],
      "source": [
        "# Convert to lower case\n",
        "df['review'] = df['review'].str.lower()\n"
      ]
    },
    {
      "cell_type": "markdown",
      "metadata": {
        "id": "Wijyla-wDDlh"
      },
      "source": [
        "### 1.3 **Remove punctuation and special characters**\n",
        "Since our goal in this task is sentiment analysis, punctuations and special characters (like parantheses, percentage signs, etc.) do not change the sentiment of a movie review. Therefore we remove them to reduce the vocabulary size. One may argue that the exclamation (!) mark may affect the intensity of a sentiment. You have the choice to choose which punctuation marks to remove and which ones to keep. You have to remove some of them though to get the points for this part :)"
      ]
    },
    {
      "cell_type": "code",
      "execution_count": null,
      "metadata": {
        "id": "HgkQeouQJK5I",
        "colab": {
          "base_uri": "https://localhost:8080/"
        },
        "outputId": "1d3b8fc2-0787-4236-b385-2b2b10572a36"
      },
      "outputs": [
        {
          "output_type": "stream",
          "name": "stdout",
          "text": [
            "a wonderful little production the filming technique is very unassuming very oldtimebbc fashion and gives a comforting and sometimes discomforting sense of realism to the entire piece the actors are extremely well chosen michael sheen not only has got all the polari but he has all the voices down pat too! you can truly see the seamless editing guided by the references to williams diary entries not only is it well worth the watching but it is a terrificly written and performed piece a masterful production about one of the great masters of comedy and his life the realism really comes home with the little things the fantasy of the guard which rather than use the traditional dream techniques remains solid then disappears it plays on our knowledge and our senses particularly with the scenes concerning orton and halliwell and the sets particularly of their flat with halliwells murals decorating every surface are terribly well done\n"
          ]
        }
      ],
      "source": [
        "# Remove punctuation and special characters\n",
        "import re\n",
        "\n",
        "def remove_punctuation_and_special_characters(text):\n",
        "    return re.sub(r'[^\\w\\s?!]', '', text)\n",
        "\n",
        "df['review'] = df['review'].apply(remove_punctuation_and_special_characters)\n",
        "print(df.loc[1, 'review'])"
      ]
    },
    {
      "cell_type": "markdown",
      "metadata": {
        "id": "iAmSnCegI4vG"
      },
      "source": [
        "### 1.4 **Tokenization**\n",
        "Now we want to convert each review into a sequence of words. This process is called tokenization. **Use `word_tokenize` from the `nltk.tokenize` module to tokenize each review**."
      ]
    },
    {
      "cell_type": "code",
      "execution_count": null,
      "metadata": {
        "id": "xJ-359NZJIq4",
        "colab": {
          "base_uri": "https://localhost:8080/"
        },
        "outputId": "cb462137-5f48-45be-8b2d-c31b72d6fc0e"
      },
      "outputs": [
        {
          "output_type": "stream",
          "name": "stdout",
          "text": [
            "Tokenized sentence: ['Hello', '!', 'this', 'is', 'a', 'test']\n"
          ]
        }
      ],
      "source": [
        "from nltk.tokenize import word_tokenize\n",
        "\n",
        "test = 'Hello! this is a test'\n",
        "print(f\"Tokenized sentence: {word_tokenize(test)}\")"
      ]
    },
    {
      "cell_type": "code",
      "execution_count": null,
      "metadata": {
        "id": "YcUYM32DbuK5",
        "colab": {
          "base_uri": "https://localhost:8080/"
        },
        "outputId": "27bcc4cd-c0fd-46e0-c7cb-d9d9b78b47ca"
      },
      "outputs": [
        {
          "output_type": "stream",
          "name": "stdout",
          "text": [
            "['a', 'wonderful', 'little', 'production', 'the', 'filming', 'technique', 'is', 'very', 'unassuming', 'very', 'oldtimebbc', 'fashion', 'and', 'gives', 'a', 'comforting', 'and', 'sometimes', 'discomforting', 'sense', 'of', 'realism', 'to', 'the', 'entire', 'piece', 'the', 'actors', 'are', 'extremely', 'well', 'chosen', 'michael', 'sheen', 'not', 'only', 'has', 'got', 'all', 'the', 'polari', 'but', 'he', 'has', 'all', 'the', 'voices', 'down', 'pat', 'too', '!', 'you', 'can', 'truly', 'see', 'the', 'seamless', 'editing', 'guided', 'by', 'the', 'references', 'to', 'williams', 'diary', 'entries', 'not', 'only', 'is', 'it', 'well', 'worth', 'the', 'watching', 'but', 'it', 'is', 'a', 'terrificly', 'written', 'and', 'performed', 'piece', 'a', 'masterful', 'production', 'about', 'one', 'of', 'the', 'great', 'masters', 'of', 'comedy', 'and', 'his', 'life', 'the', 'realism', 'really', 'comes', 'home', 'with', 'the', 'little', 'things', 'the', 'fantasy', 'of', 'the', 'guard', 'which', 'rather', 'than', 'use', 'the', 'traditional', 'dream', 'techniques', 'remains', 'solid', 'then', 'disappears', 'it', 'plays', 'on', 'our', 'knowledge', 'and', 'our', 'senses', 'particularly', 'with', 'the', 'scenes', 'concerning', 'orton', 'and', 'halliwell', 'and', 'the', 'sets', 'particularly', 'of', 'their', 'flat', 'with', 'halliwells', 'murals', 'decorating', 'every', 'surface', 'are', 'terribly', 'well', 'done']\n"
          ]
        }
      ],
      "source": [
        "# Tokenize the review texts\n",
        "from nltk.tokenize import word_tokenize\n",
        "def tokenize_text(text):\n",
        "    return word_tokenize(text)\n",
        "\n",
        "df['review'] = df['review'].apply(tokenize_text)\n",
        "print(df.loc[1, 'review'])"
      ]
    },
    {
      "cell_type": "markdown",
      "metadata": {
        "id": "Dogh5QLQJcSx"
      },
      "source": [
        "### 1.5 **Removing stop words**\n",
        "\n",
        "\n",
        "We also need to remove the stopwords (is, the, you, etc.) since they do not add to the meaning. Why? To reduce the vocabulary size 😃. **You can get a list of all stopwords from the nltk library**."
      ]
    },
    {
      "cell_type": "code",
      "execution_count": null,
      "metadata": {
        "id": "TufKm5YsL8hz",
        "colab": {
          "base_uri": "https://localhost:8080/"
        },
        "outputId": "c37b41f9-cb07-4dee-ce2f-8944a38efac2"
      },
      "outputs": [
        {
          "output_type": "stream",
          "name": "stderr",
          "text": [
            "[nltk_data] Downloading package stopwords to /root/nltk_data...\n",
            "[nltk_data]   Package stopwords is already up-to-date!\n"
          ]
        },
        {
          "output_type": "stream",
          "name": "stdout",
          "text": [
            "['wonderful', 'little', 'production', 'filming', 'technique', 'unassuming', 'oldtimebbc', 'fashion', 'gives', 'comforting', 'sometimes', 'discomforting', 'sense', 'realism', 'entire', 'piece', 'actors', 'extremely', 'well', 'chosen', 'michael', 'sheen', 'got', 'polari', 'voices', 'pat', '!', 'truly', 'see', 'seamless', 'editing', 'guided', 'references', 'williams', 'diary', 'entries', 'well', 'worth', 'watching', 'terrificly', 'written', 'performed', 'piece', 'masterful', 'production', 'one', 'great', 'masters', 'comedy', 'life', 'realism', 'really', 'comes', 'home', 'little', 'things', 'fantasy', 'guard', 'rather', 'use', 'traditional', 'dream', 'techniques', 'remains', 'solid', 'disappears', 'plays', 'knowledge', 'senses', 'particularly', 'scenes', 'concerning', 'orton', 'halliwell', 'sets', 'particularly', 'flat', 'halliwells', 'murals', 'decorating', 'every', 'surface', 'terribly', 'well', 'done']\n"
          ]
        }
      ],
      "source": [
        "# Remove stop words\n",
        "from nltk.corpus import stopwords\n",
        "nltk.download('stopwords')\n",
        "\n",
        "def remove_stopwords(tokens):\n",
        "    stop_words = set(stopwords.words('english'))\n",
        "    return [token for token in tokens if token.lower() not in stop_words]\n",
        "\n",
        "df['review'] = df['review'].apply(remove_stopwords)\n",
        "print(df.loc[1, 'review'])"
      ]
    },
    {
      "cell_type": "markdown",
      "metadata": {
        "id": "rqvJ6QUVON1B"
      },
      "source": [
        "### 1.6 **Stemming**\n",
        "\n",
        "Apply stemming using one of the `SnowballStemmer` stemmers in the nltk library."
      ]
    },
    {
      "cell_type": "code",
      "execution_count": null,
      "metadata": {
        "id": "rrbB6dtK-gZJ",
        "colab": {
          "base_uri": "https://localhost:8080/"
        },
        "outputId": "bf330bb5-a6ef-41f1-85a0-d4c0a9bc6fc1"
      },
      "outputs": [
        {
          "output_type": "stream",
          "name": "stdout",
          "text": [
            "['wonder', 'littl', 'product', 'film', 'techniqu', 'unassum', 'oldtimebbc', 'fashion', 'give', 'comfort', 'sometim', 'discomfort', 'sens', 'realism', 'entir', 'piec', 'actor', 'extrem', 'well', 'chosen', 'michael', 'sheen', 'got', 'polari', 'voic', 'pat', '!', 'truli', 'see', 'seamless', 'edit', 'guid', 'refer', 'william', 'diari', 'entri', 'well', 'worth', 'watch', 'terrif', 'written', 'perform', 'piec', 'master', 'product', 'one', 'great', 'master', 'comedi', 'life', 'realism', 'realli', 'come', 'home', 'littl', 'thing', 'fantasi', 'guard', 'rather', 'use', 'tradit', 'dream', 'techniqu', 'remain', 'solid', 'disappear', 'play', 'knowledg', 'sens', 'particular', 'scene', 'concern', 'orton', 'halliwel', 'set', 'particular', 'flat', 'halliwel', 'mural', 'decor', 'everi', 'surfac', 'terribl', 'well', 'done']\n"
          ]
        }
      ],
      "source": [
        "# Apply Stemming\n",
        "from nltk.stem import SnowballStemmer\n",
        "\n",
        "def apply_stemming(tokens):\n",
        "    stemmer = SnowballStemmer(\"english\")\n",
        "    return [stemmer.stem(token) for token in tokens]\n",
        "\n",
        "df['review'] = df['review'].apply(apply_stemming)\n",
        "print(df.loc[1, 'review'])"
      ]
    },
    {
      "cell_type": "markdown",
      "metadata": {
        "id": "_nnGZFTqdbna"
      },
      "source": [
        "### 1.7 **Joining review text**\n",
        "Now that we have removed the stopwords and applied stemming on each word, we need to convert each review from a list of word to a space-separated string. The reason we do this is that the functions that are used to extract numerical representations from text expect the input to be a single string not a list of words.\n",
        "\n",
        "**Convert each review from a list of words to a space-separated string.**"
      ]
    },
    {
      "cell_type": "code",
      "execution_count": null,
      "metadata": {
        "id": "oPfZK9fFeOXx",
        "colab": {
          "base_uri": "https://localhost:8080/"
        },
        "outputId": "1c1f906d-0b4f-428e-9ba1-171b53273a27"
      },
      "outputs": [
        {
          "output_type": "stream",
          "name": "stdout",
          "text": [
            "wonder littl product film techniqu unassum oldtimebbc fashion give comfort sometim discomfort sens realism entir piec actor extrem well chosen michael sheen got polari voic pat ! truli see seamless edit guid refer william diari entri well worth watch terrif written perform piec master product one great master comedi life realism realli come home littl thing fantasi guard rather use tradit dream techniqu remain solid disappear play knowledg sens particular scene concern orton halliwel set particular flat halliwel mural decor everi surfac terribl well done\n"
          ]
        }
      ],
      "source": [
        "# Your solution\n",
        "def list_to_string(words_list):\n",
        "    return ' '.join(words_list)\n",
        "\n",
        "df['review'] = df['review'].apply(list_to_string)\n",
        "print(df.loc[1, 'review'])"
      ]
    },
    {
      "cell_type": "markdown",
      "metadata": {
        "id": "eOTAoMoFq706"
      },
      "source": [
        "## 2. **Buidling Simple NN Models** (70 Pts)\n",
        "In this section, you will build neural network models to predict the sentiment of each review. You will build three models, where each of the models uses a different numerical representation of the text."
      ]
    },
    {
      "cell_type": "code",
      "execution_count": null,
      "metadata": {
        "id": "XlluZFZ7YmYF",
        "colab": {
          "base_uri": "https://localhost:8080/"
        },
        "outputId": "340e9fda-940c-4c04-c10f-9e9130dfbb70"
      },
      "outputs": [
        {
          "output_type": "stream",
          "name": "stdout",
          "text": [
            "Requirement already satisfied: tensorflow in /usr/local/lib/python3.10/dist-packages (2.15.0)\n",
            "Requirement already satisfied: absl-py>=1.0.0 in /usr/local/lib/python3.10/dist-packages (from tensorflow) (1.4.0)\n",
            "Requirement already satisfied: astunparse>=1.6.0 in /usr/local/lib/python3.10/dist-packages (from tensorflow) (1.6.3)\n",
            "Requirement already satisfied: flatbuffers>=23.5.26 in /usr/local/lib/python3.10/dist-packages (from tensorflow) (23.5.26)\n",
            "Requirement already satisfied: gast!=0.5.0,!=0.5.1,!=0.5.2,>=0.2.1 in /usr/local/lib/python3.10/dist-packages (from tensorflow) (0.5.4)\n",
            "Requirement already satisfied: google-pasta>=0.1.1 in /usr/local/lib/python3.10/dist-packages (from tensorflow) (0.2.0)\n",
            "Requirement already satisfied: h5py>=2.9.0 in /usr/local/lib/python3.10/dist-packages (from tensorflow) (3.9.0)\n",
            "Requirement already satisfied: libclang>=13.0.0 in /usr/local/lib/python3.10/dist-packages (from tensorflow) (16.0.6)\n",
            "Requirement already satisfied: ml-dtypes~=0.2.0 in /usr/local/lib/python3.10/dist-packages (from tensorflow) (0.2.0)\n",
            "Requirement already satisfied: numpy<2.0.0,>=1.23.5 in /usr/local/lib/python3.10/dist-packages (from tensorflow) (1.23.5)\n",
            "Requirement already satisfied: opt-einsum>=2.3.2 in /usr/local/lib/python3.10/dist-packages (from tensorflow) (3.3.0)\n",
            "Requirement already satisfied: packaging in /usr/local/lib/python3.10/dist-packages (from tensorflow) (23.2)\n",
            "Requirement already satisfied: protobuf!=4.21.0,!=4.21.1,!=4.21.2,!=4.21.3,!=4.21.4,!=4.21.5,<5.0.0dev,>=3.20.3 in /usr/local/lib/python3.10/dist-packages (from tensorflow) (3.20.3)\n",
            "Requirement already satisfied: setuptools in /usr/local/lib/python3.10/dist-packages (from tensorflow) (67.7.2)\n",
            "Requirement already satisfied: six>=1.12.0 in /usr/local/lib/python3.10/dist-packages (from tensorflow) (1.16.0)\n",
            "Requirement already satisfied: termcolor>=1.1.0 in /usr/local/lib/python3.10/dist-packages (from tensorflow) (2.4.0)\n",
            "Requirement already satisfied: typing-extensions>=3.6.6 in /usr/local/lib/python3.10/dist-packages (from tensorflow) (4.5.0)\n",
            "Requirement already satisfied: wrapt<1.15,>=1.11.0 in /usr/local/lib/python3.10/dist-packages (from tensorflow) (1.14.1)\n",
            "Requirement already satisfied: tensorflow-io-gcs-filesystem>=0.23.1 in /usr/local/lib/python3.10/dist-packages (from tensorflow) (0.34.0)\n",
            "Requirement already satisfied: grpcio<2.0,>=1.24.3 in /usr/local/lib/python3.10/dist-packages (from tensorflow) (1.60.0)\n",
            "Requirement already satisfied: tensorboard<2.16,>=2.15 in /usr/local/lib/python3.10/dist-packages (from tensorflow) (2.15.1)\n",
            "Requirement already satisfied: tensorflow-estimator<2.16,>=2.15.0 in /usr/local/lib/python3.10/dist-packages (from tensorflow) (2.15.0)\n",
            "Requirement already satisfied: keras<2.16,>=2.15.0 in /usr/local/lib/python3.10/dist-packages (from tensorflow) (2.15.0)\n",
            "Requirement already satisfied: wheel<1.0,>=0.23.0 in /usr/local/lib/python3.10/dist-packages (from astunparse>=1.6.0->tensorflow) (0.42.0)\n",
            "Requirement already satisfied: google-auth<3,>=1.6.3 in /usr/local/lib/python3.10/dist-packages (from tensorboard<2.16,>=2.15->tensorflow) (2.17.3)\n",
            "Requirement already satisfied: google-auth-oauthlib<2,>=0.5 in /usr/local/lib/python3.10/dist-packages (from tensorboard<2.16,>=2.15->tensorflow) (1.2.0)\n",
            "Requirement already satisfied: markdown>=2.6.8 in /usr/local/lib/python3.10/dist-packages (from tensorboard<2.16,>=2.15->tensorflow) (3.5.1)\n",
            "Requirement already satisfied: requests<3,>=2.21.0 in /usr/local/lib/python3.10/dist-packages (from tensorboard<2.16,>=2.15->tensorflow) (2.31.0)\n",
            "Requirement already satisfied: tensorboard-data-server<0.8.0,>=0.7.0 in /usr/local/lib/python3.10/dist-packages (from tensorboard<2.16,>=2.15->tensorflow) (0.7.2)\n",
            "Requirement already satisfied: werkzeug>=1.0.1 in /usr/local/lib/python3.10/dist-packages (from tensorboard<2.16,>=2.15->tensorflow) (3.0.1)\n",
            "Requirement already satisfied: cachetools<6.0,>=2.0.0 in /usr/local/lib/python3.10/dist-packages (from google-auth<3,>=1.6.3->tensorboard<2.16,>=2.15->tensorflow) (5.3.2)\n",
            "Requirement already satisfied: pyasn1-modules>=0.2.1 in /usr/local/lib/python3.10/dist-packages (from google-auth<3,>=1.6.3->tensorboard<2.16,>=2.15->tensorflow) (0.3.0)\n",
            "Requirement already satisfied: rsa<5,>=3.1.4 in /usr/local/lib/python3.10/dist-packages (from google-auth<3,>=1.6.3->tensorboard<2.16,>=2.15->tensorflow) (4.9)\n",
            "Requirement already satisfied: requests-oauthlib>=0.7.0 in /usr/local/lib/python3.10/dist-packages (from google-auth-oauthlib<2,>=0.5->tensorboard<2.16,>=2.15->tensorflow) (1.3.1)\n",
            "Requirement already satisfied: charset-normalizer<4,>=2 in /usr/local/lib/python3.10/dist-packages (from requests<3,>=2.21.0->tensorboard<2.16,>=2.15->tensorflow) (3.3.2)\n",
            "Requirement already satisfied: idna<4,>=2.5 in /usr/local/lib/python3.10/dist-packages (from requests<3,>=2.21.0->tensorboard<2.16,>=2.15->tensorflow) (3.6)\n",
            "Requirement already satisfied: urllib3<3,>=1.21.1 in /usr/local/lib/python3.10/dist-packages (from requests<3,>=2.21.0->tensorboard<2.16,>=2.15->tensorflow) (2.0.7)\n",
            "Requirement already satisfied: certifi>=2017.4.17 in /usr/local/lib/python3.10/dist-packages (from requests<3,>=2.21.0->tensorboard<2.16,>=2.15->tensorflow) (2023.11.17)\n",
            "Requirement already satisfied: MarkupSafe>=2.1.1 in /usr/local/lib/python3.10/dist-packages (from werkzeug>=1.0.1->tensorboard<2.16,>=2.15->tensorflow) (2.1.3)\n",
            "Requirement already satisfied: pyasn1<0.6.0,>=0.4.6 in /usr/local/lib/python3.10/dist-packages (from pyasn1-modules>=0.2.1->google-auth<3,>=1.6.3->tensorboard<2.16,>=2.15->tensorflow) (0.5.1)\n",
            "Requirement already satisfied: oauthlib>=3.0.0 in /usr/local/lib/python3.10/dist-packages (from requests-oauthlib>=0.7.0->google-auth-oauthlib<2,>=0.5->tensorboard<2.16,>=2.15->tensorflow) (3.2.2)\n"
          ]
        }
      ],
      "source": [
        "# Import all necessary libraries here\n",
        "!pip install tensorflow\n",
        "\n",
        "import pandas as pd\n",
        "import tensorflow\n",
        "from sklearn.model_selection import train_test_split\n",
        "from sklearn.preprocessing import LabelEncoder\n",
        "from tensorflow.keras.models import Sequential\n",
        "from tensorflow.keras.layers import Embedding, LSTM, Dense, Dropout\n",
        "from tensorflow.keras.preprocessing.text import Tokenizer\n",
        "from tensorflow.keras.preprocessing.sequence import pad_sequences"
      ]
    },
    {
      "cell_type": "markdown",
      "metadata": {
        "id": "iada5kfkYtPr"
      },
      "source": [
        "### 2.1 **Data preparation**"
      ]
    },
    {
      "cell_type": "markdown",
      "metadata": {
        "id": "2Y4MmQQ3WRSM"
      },
      "source": [
        "#### 2.1.1 **Encoding labels**\n",
        "Encode the labels (\"positive\" and \"negative\") as 0 for \"negative\" and 1 for \"positive\"."
      ]
    },
    {
      "cell_type": "code",
      "execution_count": null,
      "metadata": {
        "id": "ePwco1nbW7o8"
      },
      "outputs": [],
      "source": [
        "# Encode labels\n",
        "label_encoder = LabelEncoder()\n",
        "df['sentiment'] = label_encoder.fit_transform(df['sentiment'])\n",
        "\n",
        "#print(df.loc[1,'review'])\n",
        "#print(df.loc[1,'sentiment'])"
      ]
    },
    {
      "cell_type": "markdown",
      "metadata": {
        "id": "ZK92SdrYWyrs"
      },
      "source": [
        "#### 2.1.2 **Splitting data**\n",
        "Split your data into train, validation, and test sets. You should use 80% of your data for training and 20% for testing. You should also use 20% of your training data for validation. **Set random_state to 42 to ensure consistent results.**\n",
        "\n",
        "Hint: You can pass parameters in Keras to use some of your data for validation while training."
      ]
    },
    {
      "cell_type": "code",
      "execution_count": null,
      "metadata": {
        "id": "jFskqoM2XV-I"
      },
      "outputs": [],
      "source": [
        "# Split the data into train and test sets\n",
        "train_data, test_data, train_labels, test_labels = train_test_split(\n",
        "    df['review'], df['sentiment'], test_size=0.2, random_state=42\n",
        ")\n",
        "\n",
        "train_data, val_data, train_labels, val_labels = train_test_split(\n",
        "    train_data, train_labels, test_size=0.25, random_state=42\n",
        ")"
      ]
    },
    {
      "cell_type": "markdown",
      "metadata": {
        "id": "LUEouGNLZiat"
      },
      "source": [
        "#### **Exploring vocabulary**\n",
        "Create a dictionary that maps each word in your training data to the number of times it occurs in the training data. The dictionary should have the following format:\n",
        "\n",
        "```\n",
        "vocab_count = {\n",
        "  \"word1\": 1,\n",
        "  \"word2\": 120,\n",
        "  ...\n",
        "}\n",
        "```"
      ]
    },
    {
      "cell_type": "code",
      "execution_count": null,
      "metadata": {
        "id": "xrBcdP3maD53"
      },
      "outputs": [],
      "source": [
        "# Create a dictionary for vocabulary count inn training data\n",
        "from sklearn.feature_extraction.text import CountVectorizer\n",
        "\n",
        "vectorizer = CountVectorizer()\n",
        "X_train = vectorizer.fit_transform(train_data)\n",
        "vocab_count = dict(zip(vectorizer.get_feature_names_out(), X_train.sum(axis=0).tolist()[0]))\n",
        "vocab_count = {word: frequency for word, frequency in vocab_count.items()}\n"
      ]
    },
    {
      "cell_type": "code",
      "execution_count": null,
      "metadata": {
        "id": "_20IICeefsux",
        "colab": {
          "base_uri": "https://localhost:8080/",
          "height": 564
        },
        "outputId": "ab44677e-dab0-43c6-840f-e043db5935b8"
      },
      "outputs": [
        {
          "output_type": "stream",
          "name": "stdout",
          "text": [
            "Vocabulary size: 126100\n",
            "Top 15 frequent words: movi, film, one, like, time, good, make, see, charact, get, watch, even, stori, would, realli\n",
            "Least frequent 15 words: namefor, nameh, namejim, nameno, namesbut, namenonono, nameord, nameorigin, namepro, nameprofess, namer, namerecognit, namerobert, namesa, laughingso\n",
            "\n"
          ]
        },
        {
          "output_type": "display_data",
          "data": {
            "text/plain": [
              "<Figure size 640x480 with 1 Axes>"
            ],
            "image/png": "[encoded data removed]"
          },
          "metadata": {}
        }
      ],
      "source": [
        "# Run this cell to explore the vocabulary\n",
        "import seaborn as sns\n",
        "count_arr = np.array(list(vocab_count.values()))\n",
        "vocab = np.array(list(vocab_count.keys()))\n",
        "\n",
        "# Sorting by frequency\n",
        "sort_idx = np.argsort(count_arr)[::-1]\n",
        "vocab = vocab[sort_idx]\n",
        "count_arr = count_arr[sort_idx]\n",
        "\n",
        "print(f\"Vocabulary size: {len(vocab)}\")\n",
        "print(f\"Top 15 frequent words: {', '.join(vocab[:15])}\")\n",
        "print(f\"Least frequent 15 words: {', '.join(vocab[-15:])}\")\n",
        "print()\n",
        "\n",
        "ax = sns.histplot(count_arr, log_scale=True, bins=100)\n",
        "ax.set_yscale('log')\n",
        "ax.set_xlabel('Number of word occurrences')\n",
        "ax.set_title(\"Histogram of vocabulary frequencies in training data\")\n",
        "plt.show()"
      ]
    },
    {
      "cell_type": "code",
      "execution_count": null,
      "metadata": {
        "id": "8YqsJq0Cgk_2"
      },
      "outputs": [],
      "source": []
    },
    {
      "cell_type": "markdown",
      "metadata": {
        "id": "7ArllJNd_RL8"
      },
      "source": [
        "### 2.2 **Bag of Words (BoW) model**\n",
        "Create a simple NN model that utilizes the Bag of Words representation."
      ]
    },
    {
      "cell_type": "markdown",
      "metadata": {
        "id": "vlAe5IAzY7i3"
      },
      "source": [
        "#### 2.2.1 **Generate Bag of Words (BoW) representation**\n",
        "\n",
        "You can use the `CountVectorizer` class from `sklearn` to do this. Since your data is already preprocessed, set the `preprocessor` argument of `CountVectorizer` to pass a function that does nothing (`lambda x: x`). This way, `CountVectorizer` will not do any preprocessing on your data.\n",
        "\n",
        "Choose a reasonable value for the `max_features` argument. This argument determines how many words will be included in your vocabulary. For example, if your total vocabulary count is 100,000 and you set `max_features = 2,000`, `CountVectorizer` will only consider the **most frequent** 2,000 words in your vocabulary. The rest of the vocabulary will be ignored.\n",
        "\n",
        "* [CountVectorizer documentation](https://scikit-learn.org/stable/modules/generated/sklearn.feature_extraction.text.CountVectorizer.html)"
      ]
    },
    {
      "cell_type": "code",
      "execution_count": null,
      "metadata": {
        "id": "cvIioVluY4TA"
      },
      "outputs": [],
      "source": [
        "# Your solution\n",
        "from sklearn.feature_extraction.text import CountVectorizer\n",
        "\n",
        "max_features = 3000 # Choose a value for max_features\n",
        "vectorizer = CountVectorizer(max_features=max_features, preprocessor=lambda x: x)\n",
        "\n",
        "# Fit the vectorizer to your train data\n",
        "vectorizer.fit(train_data)\n",
        "\n",
        "# Transform the train and test data\n",
        "train_bow = vectorizer.transform(train_data)\n",
        "train_bow_dense = train_bow.toarray()\n",
        "test_bow = vectorizer.transform(test_data)\n",
        "test_bow_dense = test_bow.toarray()"
      ]
    },
    {
      "cell_type": "code",
      "execution_count": null,
      "metadata": {
        "id": "2vlTK6pl0IXx",
        "colab": {
          "base_uri": "https://localhost:8080/"
        },
        "outputId": "fe9f17b3-be71-487d-abb9-a3e43035c85d"
      },
      "outputs": [
        {
          "output_type": "stream",
          "name": "stdout",
          "text": [
            "(30000, 3000)\n"
          ]
        }
      ],
      "source": [
        "# The shape of the train data BoW representation should be\n",
        "# (Number of data points in training data x max_features)\n",
        "print(train_bow.shape)"
      ]
    },
    {
      "cell_type": "markdown",
      "metadata": {
        "id": "YsnVbn50ZTs-"
      },
      "source": [
        "#### 2.2.2 **Train a neural network on BoW data**\n",
        "Use a small neural network to predict the sentiment of reviews from the BoW representation of the reviews. Use the keras library for this task.\n",
        "\n",
        "**Notes**:\n",
        "* Your neural network should have **maximum two hidden layers**.\n",
        "* Train for **10 epochs or less**\n",
        "* Choose any method you find suitable to **avoid overfitting**"
      ]
    },
    {
      "cell_type": "code",
      "execution_count": null,
      "metadata": {
        "id": "Ut5c1ivakTvc"
      },
      "outputs": [],
      "source": [
        "from keras.models import Sequential\n",
        "from keras.layers import Dense"
      ]
    },
    {
      "cell_type": "code",
      "execution_count": null,
      "metadata": {
        "id": "X5H-Wsu60jXx",
        "colab": {
          "base_uri": "https://localhost:8080/"
        },
        "outputId": "8b9beefe-47b6-4374-f257-0b61947bdf3c"
      },
      "outputs": [
        {
          "output_type": "stream",
          "name": "stdout",
          "text": [
            "Model: \"sequential_4\"\n",
            "_________________________________________________________________\n",
            " Layer (type)                Output Shape              Param #   \n",
            "=================================================================\n",
            " dense_8 (Dense)             (None, 64)                192064    \n",
            "                                                                 \n",
            " dropout_2 (Dropout)         (None, 64)                0         \n",
            "                                                                 \n",
            " dense_9 (Dense)             (None, 1)                 65        \n",
            "                                                                 \n",
            "=================================================================\n",
            "Total params: 192129 (750.50 KB)\n",
            "Trainable params: 192129 (750.50 KB)\n",
            "Non-trainable params: 0 (0.00 Byte)\n",
            "_________________________________________________________________\n",
            "Epoch 1/10\n",
            "750/750 [==============================] - 8s 8ms/step - loss: 0.3782 - accuracy: 0.8400 - val_loss: 0.3131 - val_accuracy: 0.8748\n",
            "Epoch 2/10\n",
            "750/750 [==============================] - 6s 8ms/step - loss: 0.2637 - accuracy: 0.8957 - val_loss: 0.3066 - val_accuracy: 0.8722\n",
            "Epoch 3/10\n",
            "750/750 [==============================] - 5s 7ms/step - loss: 0.2193 - accuracy: 0.9155 - val_loss: 0.3159 - val_accuracy: 0.8723\n",
            "Epoch 4/10\n",
            "750/750 [==============================] - 5s 6ms/step - loss: 0.1870 - accuracy: 0.9295 - val_loss: 0.3254 - val_accuracy: 0.8693\n",
            "Epoch 5/10\n",
            "750/750 [==============================] - 6s 8ms/step - loss: 0.1546 - accuracy: 0.9447 - val_loss: 0.3538 - val_accuracy: 0.8692\n",
            "Epoch 6/10\n",
            "750/750 [==============================] - 4s 6ms/step - loss: 0.1276 - accuracy: 0.9560 - val_loss: 0.3724 - val_accuracy: 0.8692\n",
            "Epoch 7/10\n",
            "750/750 [==============================] - 6s 8ms/step - loss: 0.1131 - accuracy: 0.9622 - val_loss: 0.3969 - val_accuracy: 0.8655\n",
            "Epoch 8/10\n",
            "750/750 [==============================] - 5s 7ms/step - loss: 0.0966 - accuracy: 0.9667 - val_loss: 0.4221 - val_accuracy: 0.8652\n",
            "Epoch 9/10\n",
            "750/750 [==============================] - 6s 8ms/step - loss: 0.0784 - accuracy: 0.9726 - val_loss: 0.4650 - val_accuracy: 0.8638\n",
            "Epoch 10/10\n",
            "750/750 [==============================] - 6s 8ms/step - loss: 0.0683 - accuracy: 0.9772 - val_loss: 0.4821 - val_accuracy: 0.8635\n"
          ]
        },
        {
          "output_type": "execute_result",
          "data": {
            "text/plain": [
              "<keras.src.callbacks.History at 0x7ae564307b20>"
            ]
          },
          "metadata": {},
          "execution_count": 90
        }
      ],
      "source": [
        "# Build the model\n",
        "from keras.layers import Dropout\n",
        "\n",
        "model = Sequential()\n",
        "model.add(Dense(64, activation='relu', input_dim=max_features))\n",
        "model.add(Dropout(0.5)) #to avoid overfitting\n",
        "model.add(Dense(1, activation='sigmoid'))\n",
        "\n",
        "# Compile the model\n",
        "model.compile(optimizer='adam', loss='binary_crossentropy', metrics=['accuracy'])\n",
        "\n",
        "# Show model summary\n",
        "model.summary()\n",
        "\n",
        "# Train the model\n",
        "# When fitting the model, set validation_split=0.20 to use 20% of the train data\n",
        "# for validation\n",
        "epochs = 10\n",
        "batch_size = 32\n",
        "model.fit(train_bow_dense, train_labels, epochs=epochs, batch_size=batch_size, validation_split=0.2)\n"
      ]
    },
    {
      "cell_type": "markdown",
      "metadata": {
        "id": "2bQfHwju1vx_"
      },
      "source": [
        "#### 2.2.3 **Evaluate on test dataset**\n",
        "After choosing the suitable model hyperparameters and training a model in the previous step, evaluate your model on the test set. Choose the metrics you find suitable for evauluating this model.\n",
        "\n",
        "**Note**: Evaluation on the test dataset should only be done once. Updating your model iteratively until you get a good performance on the test dataset is not a good practice and will result in overfitting on the test dataset."
      ]
    },
    {
      "cell_type": "code",
      "execution_count": null,
      "metadata": {
        "id": "L_6rzD-y1qXb",
        "colab": {
          "base_uri": "https://localhost:8080/"
        },
        "outputId": "86630eac-96b9-4033-9af4-9f87e8a0177a"
      },
      "outputs": [
        {
          "output_type": "stream",
          "name": "stdout",
          "text": [
            "313/313 [==============================] - 1s 3ms/step\n",
            "Test Accuracy: 0.8754\n"
          ]
        }
      ],
      "source": [
        "# Evaluate the model on the test set\n",
        "from sklearn.metrics import accuracy_score\n",
        "pred = model.predict(test_bow_dense)\n",
        "pred_binary = (pred > 0.5).astype(int)\n",
        "\n",
        "accuracy = accuracy_score(test_labels, pred_binary)\n",
        "print(f'Test Accuracy: {accuracy}')"
      ]
    },
    {
      "cell_type": "markdown",
      "metadata": {
        "id": "PFYph9dm_VOr"
      },
      "source": [
        "### 2.3 **TF-IDF**"
      ]
    },
    {
      "cell_type": "markdown",
      "metadata": {
        "id": "TUn_mGiMZLuq"
      },
      "source": [
        "Create a simple NN model that utilizes the TF-IDF representation."
      ]
    },
    {
      "cell_type": "markdown",
      "metadata": {
        "id": "_9pwr-uZ3Ik1"
      },
      "source": [
        "#### 2.3.1 **Generate TF-IDF representation**\n",
        "\n",
        "You can use the `TfidfVectorizer` class from `sklearn` to do this. Since your data is already preprocessed, set the `preprocessor` argument of `TfidfVectorizer` to pass a function that does nothing (`lambda x: x`). This way, `TfidfVectorizer` will not do any preprocessing on your data.\n",
        "\n",
        "Choose a reasonable value for the `max_features` argument.\n",
        "\n",
        "* [TfidfVectorizer documentation](https://scikit-learn.org/stable/modules/generated/sklearn.feature_extraction.text.TfidfVectorizer.html)"
      ]
    },
    {
      "cell_type": "code",
      "execution_count": null,
      "metadata": {
        "id": "QEQa7Y4I_W_8"
      },
      "outputs": [],
      "source": [
        "# Your solution\n",
        "from sklearn.feature_extraction.text import TfidfVectorizer\n",
        "\n",
        "max_features = 3000\n",
        "tfidf_vectorizer = TfidfVectorizer(max_features=max_features, preprocessor=lambda x: x)\n",
        "\n",
        "# Fit the vectorizer to your train data\n",
        "vectorizer.fit(train_data)\n",
        "\n",
        "# Transform the train and test data\n",
        "train_tfidf = vectorizer.transform(train_data)\n",
        "train_tfidf_dense = train_tfidf.toarray()\n",
        "test_tfidf = vectorizer.transform(test_data)\n",
        "test_tfidf_dense = test_tfidf.toarray()"
      ]
    },
    {
      "cell_type": "markdown",
      "metadata": {
        "id": "8TU6aX5N40Mx"
      },
      "source": [
        "#### 2.3.2 **Train a neural network on TF-IDF data**\n",
        "Use a small neural network to predict the sentiment of reviews from the TF-IDF representation of the reviews. Use the keras library for this task. **You can use the same neural network structure form the BoW model.**\n",
        "\n",
        "**Notes**:\n",
        "* Your neural network should have **maximum two hidden layers**.\n",
        "* Train for **10 epochs or less**\n",
        "* Choose any method you find suitable to **avoid overfitting**"
      ]
    },
    {
      "cell_type": "code",
      "execution_count": null,
      "metadata": {
        "id": "WfVf7osX49KU",
        "colab": {
          "base_uri": "https://localhost:8080/"
        },
        "outputId": "365429be-6212-4a7b-dd6f-3c3bfb3b7a8d"
      },
      "outputs": [
        {
          "output_type": "stream",
          "name": "stdout",
          "text": [
            "Model: \"sequential_5\"\n",
            "_________________________________________________________________\n",
            " Layer (type)                Output Shape              Param #   \n",
            "=================================================================\n",
            " dense_10 (Dense)            (None, 64)                192064    \n",
            "                                                                 \n",
            " dropout_3 (Dropout)         (None, 64)                0         \n",
            "                                                                 \n",
            " dense_11 (Dense)            (None, 1)                 65        \n",
            "                                                                 \n",
            "=================================================================\n",
            "Total params: 192129 (750.50 KB)\n",
            "Trainable params: 192129 (750.50 KB)\n",
            "Non-trainable params: 0 (0.00 Byte)\n",
            "_________________________________________________________________\n",
            "Epoch 1/10\n",
            "750/750 [==============================] - 6s 8ms/step - loss: 0.3809 - accuracy: 0.8411 - val_loss: 0.3143 - val_accuracy: 0.8700\n",
            "Epoch 2/10\n",
            "750/750 [==============================] - 5s 7ms/step - loss: 0.2590 - accuracy: 0.8989 - val_loss: 0.3053 - val_accuracy: 0.8662\n",
            "Epoch 3/10\n",
            "750/750 [==============================] - 9s 12ms/step - loss: 0.2167 - accuracy: 0.9168 - val_loss: 0.3114 - val_accuracy: 0.8708\n",
            "Epoch 4/10\n",
            "750/750 [==============================] - 5s 7ms/step - loss: 0.1810 - accuracy: 0.9315 - val_loss: 0.3312 - val_accuracy: 0.8683\n",
            "Epoch 5/10\n",
            "750/750 [==============================] - 5s 6ms/step - loss: 0.1493 - accuracy: 0.9472 - val_loss: 0.3531 - val_accuracy: 0.8707\n",
            "Epoch 6/10\n",
            "750/750 [==============================] - 6s 8ms/step - loss: 0.1260 - accuracy: 0.9560 - val_loss: 0.3762 - val_accuracy: 0.8667\n",
            "Epoch 7/10\n",
            "750/750 [==============================] - 5s 6ms/step - loss: 0.1085 - accuracy: 0.9625 - val_loss: 0.3972 - val_accuracy: 0.8642\n",
            "Epoch 8/10\n",
            "750/750 [==============================] - 4s 6ms/step - loss: 0.0928 - accuracy: 0.9676 - val_loss: 0.4192 - val_accuracy: 0.8643\n",
            "Epoch 9/10\n",
            "750/750 [==============================] - 6s 8ms/step - loss: 0.0761 - accuracy: 0.9745 - val_loss: 0.4393 - val_accuracy: 0.8627\n",
            "Epoch 10/10\n",
            "750/750 [==============================] - 5s 6ms/step - loss: 0.0677 - accuracy: 0.9768 - val_loss: 0.4936 - val_accuracy: 0.8647\n"
          ]
        },
        {
          "output_type": "execute_result",
          "data": {
            "text/plain": [
              "<keras.src.callbacks.History at 0x7ae564360d30>"
            ]
          },
          "metadata": {},
          "execution_count": 93
        }
      ],
      "source": [
        "# Build the model\n",
        "\n",
        "model = Sequential()\n",
        "model.add(Dense(64, activation='relu', input_dim=max_features))\n",
        "model.add(Dropout(0.5)) #to avoid overfitting\n",
        "model.add(Dense(1, activation='sigmoid'))\n",
        "\n",
        "# Compile the model\n",
        "model.compile(optimizer='adam', loss='binary_crossentropy', metrics=['accuracy'])\n",
        "\n",
        "# Show model summary\n",
        "model.summary()\n",
        "\n",
        "# Train the model\n",
        "# When fitting the model, set validation_split=0.20 to use 20% of the train data\n",
        "# for validation\n",
        "epochs = 10\n",
        "batch_size = 32\n",
        "model.fit(train_tfidf_dense, train_labels, epochs=epochs, batch_size=batch_size, validation_split=0.2)\n"
      ]
    },
    {
      "cell_type": "markdown",
      "metadata": {
        "id": "7hPry9cx5FFb"
      },
      "source": [
        "#### 2.2.3 **Evaluate on test dataset**\n",
        "After choosing the suitable model hyperparameters and training a model in the previous step, evaluate your model on the test set. Choose the metrics you find suitable for evauluating this model."
      ]
    },
    {
      "cell_type": "code",
      "execution_count": null,
      "metadata": {
        "id": "C3W9Dh7xIip3",
        "colab": {
          "base_uri": "https://localhost:8080/"
        },
        "outputId": "91748865-5ff5-4c7d-fa1b-0a216dc39a71"
      },
      "outputs": [
        {
          "output_type": "stream",
          "name": "stdout",
          "text": [
            "313/313 [==============================] - 1s 3ms/step\n",
            "Test Accuracy: 0.875\n"
          ]
        }
      ],
      "source": [
        "# Evaluate the model on the test set\n",
        "from sklearn.metrics import accuracy_score\n",
        "pred_2 = model.predict(test_tfidf_dense)\n",
        "pred_binary_2 = (pred_2 > 0.5).astype(int)\n",
        "\n",
        "accuracy_2 = accuracy_score(test_labels, pred_binary_2)\n",
        "print(f'Test Accuracy: {accuracy_2}')"
      ]
    },
    {
      "cell_type": "markdown",
      "metadata": {
        "id": "uZj46dBC_XnP"
      },
      "source": [
        "### 2.4 **Word2Vec**\n",
        "In this section, you will use Word2Vec representations to train a simple neural network to predict the sentiments of reviews."
      ]
    },
    {
      "cell_type": "markdown",
      "metadata": {
        "id": "WX6AhwZB5ltk"
      },
      "source": [
        "#### 2.4.1 **Preliminary About Word2Vec**"
      ]
    },
    {
      "cell_type": "code",
      "execution_count": null,
      "metadata": {
        "id": "zxil2TcVCJEm"
      },
      "outputs": [],
      "source": [
        "import gensim.downloader\n",
        "from gensim.models import Word2Vec"
      ]
    },
    {
      "cell_type": "markdown",
      "metadata": {
        "id": "uxehiNoc6EPr"
      },
      "source": [
        "The following cell will load a pretrained Word2Vec model. This is a model trained on a large corpus of data to produce meaningful representations of words as vectors."
      ]
    },
    {
      "cell_type": "code",
      "execution_count": null,
      "metadata": {
        "id": "Vsjavca9_auI"
      },
      "outputs": [],
      "source": [
        "# Loading pretrained Word2Vec model (Word embeddings)\n",
        "model_name = \"glove-wiki-gigaword-100\"\n",
        "word_to_vec = gensim.downloader.load(model_name)"
      ]
    },
    {
      "cell_type": "code",
      "execution_count": null,
      "metadata": {
        "id": "fNxPVPUz7G7E",
        "colab": {
          "base_uri": "https://localhost:8080/"
        },
        "outputId": "83417d2f-0052-4731-9c18-a026489c378d"
      },
      "outputs": [
        {
          "output_type": "execute_result",
          "data": {
            "text/plain": [
              "array([ 0.30817  ,  0.30938  ,  0.52803  , -0.92543  , -0.73671  ,\n",
              "        0.63475  ,  0.44197  ,  0.10262  , -0.09142  , -0.56607  ,\n",
              "       -0.5327   ,  0.2013   ,  0.7704   , -0.13983  ,  0.13727  ,\n",
              "        1.1128   ,  0.89301  , -0.17869  , -0.0019722,  0.57289  ,\n",
              "        0.59479  ,  0.50428  , -0.28991  , -1.3491   ,  0.42756  ,\n",
              "        1.2748   , -1.1613   , -0.41084  ,  0.042804 ,  0.54866  ,\n",
              "        0.18897  ,  0.3759   ,  0.58035  ,  0.66975  ,  0.81156  ,\n",
              "        0.93864  , -0.51005  , -0.070079 ,  0.82819  , -0.35346  ,\n",
              "        0.21086  , -0.24412  , -0.16554  , -0.78358  , -0.48482  ,\n",
              "        0.38968  , -0.86356  , -0.016391 ,  0.31984  , -0.49246  ,\n",
              "       -0.069363 ,  0.018869 , -0.098286 ,  1.3126   , -0.12116  ,\n",
              "       -1.2399   , -0.091429 ,  0.35294  ,  0.64645  ,  0.089642 ,\n",
              "        0.70294  ,  1.1244   ,  0.38639  ,  0.52084  ,  0.98787  ,\n",
              "        0.79952  , -0.34625  ,  0.14095  ,  0.80167  ,  0.20987  ,\n",
              "       -0.86007  , -0.15308  ,  0.074523 ,  0.40816  ,  0.019208 ,\n",
              "        0.51587  , -0.34428  , -0.24525  , -0.77984  ,  0.27425  ,\n",
              "        0.22418  ,  0.20164  ,  0.017431 , -0.014697 , -1.0235   ,\n",
              "       -0.39695  , -0.0056188,  0.30569  ,  0.31748  ,  0.021404 ,\n",
              "        0.11837  , -0.11319  ,  0.42456  ,  0.53405  , -0.16717  ,\n",
              "       -0.27185  , -0.6255   ,  0.12883  ,  0.62529  , -0.52086  ],\n",
              "      dtype=float32)"
            ]
          },
          "metadata": {},
          "execution_count": 97
        }
      ],
      "source": [
        "# Getting the representation of a word\n",
        "dog = word_to_vec[\"dog\"]\n",
        "dog"
      ]
    },
    {
      "cell_type": "markdown",
      "metadata": {
        "id": "me2Q_Ave6U1F"
      },
      "source": [
        "These representations are meaningful in a sense that words that have similar meanings are closer to each other. In general, when dealing with vector representations, we use **cosine similarity** to see how similar two vectors are. it returns a value between -1 and +1, the higher the value the more similar two vectors are.\n",
        "\n",
        "Notice in the example below that **car** is more similar to **vehicle** than **cat**."
      ]
    },
    {
      "cell_type": "code",
      "execution_count": null,
      "metadata": {
        "id": "lNkRtwBr6xjR",
        "colab": {
          "base_uri": "https://localhost:8080/"
        },
        "outputId": "6af2cd3c-d740-486a-be0a-6144d008c036"
      },
      "outputs": [
        {
          "output_type": "stream",
          "name": "stdout",
          "text": [
            "Similarity between car and cat: [[0.31097823]]\n",
            "Similarity between car and vehicle: [[0.86308384]]\n"
          ]
        }
      ],
      "source": [
        "from  sklearn.metrics.pairwise import cosine_similarity\n",
        "car = word_to_vec[\"car\"].reshape(1, -1) # Reshaping because cosine_similarity function requires a 2D array\n",
        "cat = word_to_vec[\"cat\"].reshape(1, -1)\n",
        "vehicle = word_to_vec[\"vehicle\"].reshape(1, -1)\n",
        "\n",
        "print(f\"Similarity between car and cat: {cosine_similarity(car, cat)}\")\n",
        "print(f\"Similarity between car and vehicle: {cosine_similarity(car, vehicle)}\")"
      ]
    },
    {
      "cell_type": "markdown",
      "metadata": {
        "id": "LLS-06oTBMY-"
      },
      "source": [
        "#### 2.4.2 **Use pretrained Word2Vec model**\n",
        "First, you will try to use the pretrained Word2Vec model to generate representations for each review and use the representation to train a neural network.\n",
        "\n",
        "Remember that we are trying to classify movie reviews, which have can have any number of words. Word2Vec returns a vector representation for each word. Therefore, you have to find a way to create a **fixed-sized representation** for the whole review. Fixed-size means that the vector representation of each review should have the same size regardless of the length of the review."
      ]
    },
    {
      "cell_type": "code",
      "execution_count": null,
      "metadata": {
        "id": "7RO53y0h4F8b"
      },
      "outputs": [],
      "source": [
        "# Your solution\n",
        "# This function should convert each review to a fixed-sized vectoriz representation\n",
        "def vectorize(review):\n",
        "  # WRITE YOUR CODE HERE\n",
        "  words = word_tokenize(review.lower())\n",
        "  vectors = [word_to_vec[word] for word in words if word in word_to_vec]\n",
        "\n",
        "  if vectors:\n",
        "    review_vector = np.mean(vectors, axis=0)\n",
        "  else:\n",
        "    review_vector = np.zeros(word_to_vec.vector_size)\n",
        "  return review_vector\n",
        "\n",
        "# Applying your function to convert the train and test reviews to vector representations\n",
        "# WRITE YOUR CODE HERE\n",
        "train_word2vec = np.vstack([vectorize(review) for review in train_data])\n",
        "test_word2vec = np.vstack([vectorize(review) for review in test_data])\n"
      ]
    },
    {
      "cell_type": "markdown",
      "metadata": {
        "id": "J6nG9NJ8HzgW"
      },
      "source": [
        "Train a neural network:"
      ]
    },
    {
      "cell_type": "code",
      "execution_count": null,
      "metadata": {
        "id": "fbLkFZXlIYYu",
        "colab": {
          "base_uri": "https://localhost:8080/"
        },
        "outputId": "2844f8d2-f621-4e4d-ae30-9a415af12b1e"
      },
      "outputs": [
        {
          "output_type": "stream",
          "name": "stdout",
          "text": [
            "Model: \"sequential_6\"\n",
            "_________________________________________________________________\n",
            " Layer (type)                Output Shape              Param #   \n",
            "=================================================================\n",
            " dense_12 (Dense)            (None, 64)                6464      \n",
            "                                                                 \n",
            " dense_13 (Dense)            (None, 1)                 65        \n",
            "                                                                 \n",
            "=================================================================\n",
            "Total params: 6529 (25.50 KB)\n",
            "Trainable params: 6529 (25.50 KB)\n",
            "Non-trainable params: 0 (0.00 Byte)\n",
            "_________________________________________________________________\n",
            "Epoch 1/10\n",
            "750/750 [==============================] - 3s 3ms/step - loss: 0.5686 - accuracy: 0.7143 - val_loss: 0.5279 - val_accuracy: 0.7393\n",
            "Epoch 2/10\n",
            "750/750 [==============================] - 2s 2ms/step - loss: 0.5107 - accuracy: 0.7548 - val_loss: 0.5168 - val_accuracy: 0.7483\n",
            "Epoch 3/10\n",
            "750/750 [==============================] - 3s 4ms/step - loss: 0.5009 - accuracy: 0.7605 - val_loss: 0.5010 - val_accuracy: 0.7570\n",
            "Epoch 4/10\n",
            "750/750 [==============================] - 3s 4ms/step - loss: 0.4978 - accuracy: 0.7618 - val_loss: 0.4981 - val_accuracy: 0.7572\n",
            "Epoch 5/10\n",
            "750/750 [==============================] - 3s 4ms/step - loss: 0.4945 - accuracy: 0.7644 - val_loss: 0.4939 - val_accuracy: 0.7657\n",
            "Epoch 6/10\n",
            "750/750 [==============================] - 2s 2ms/step - loss: 0.4915 - accuracy: 0.7662 - val_loss: 0.4915 - val_accuracy: 0.7657\n",
            "Epoch 7/10\n",
            "750/750 [==============================] - 2s 2ms/step - loss: 0.4898 - accuracy: 0.7663 - val_loss: 0.4979 - val_accuracy: 0.7590\n",
            "Epoch 8/10\n",
            "750/750 [==============================] - 2s 2ms/step - loss: 0.4882 - accuracy: 0.7664 - val_loss: 0.4909 - val_accuracy: 0.7653\n",
            "Epoch 9/10\n",
            "750/750 [==============================] - 2s 2ms/step - loss: 0.4845 - accuracy: 0.7695 - val_loss: 0.4889 - val_accuracy: 0.7663\n",
            "Epoch 10/10\n",
            "750/750 [==============================] - 2s 2ms/step - loss: 0.4830 - accuracy: 0.7705 - val_loss: 0.4952 - val_accuracy: 0.7632\n"
          ]
        },
        {
          "output_type": "execute_result",
          "data": {
            "text/plain": [
              "<keras.src.callbacks.History at 0x7ae57f6c9ff0>"
            ]
          },
          "metadata": {},
          "execution_count": 100
        }
      ],
      "source": [
        "# Build the model\n",
        "num_features = word_to_vec.vector_size\n",
        "\n",
        "model = Sequential()\n",
        "model.add(Dense(64, activation='relu', input_dim=num_features))\n",
        "model.add(Dense(1, activation='sigmoid'))\n",
        "\n",
        "# Compile the model\n",
        "model.compile(optimizer='adam', loss='binary_crossentropy', metrics=['accuracy'])\n",
        "\n",
        "# Show model summary\n",
        "model.summary()\n",
        "\n",
        "# Train the model\n",
        "# When fitting the model, set validation_split=0.20 to use 20% of the train data\n",
        "# for validation\n",
        "epochs = 10\n",
        "batch_size = 32\n",
        "model.fit(train_word2vec, train_labels, epochs=epochs, batch_size=batch_size, validation_split=0.2)\n"
      ]
    },
    {
      "cell_type": "markdown",
      "metadata": {
        "id": "Kj8W0JH0IZyM"
      },
      "source": [
        "Evaluate the model on the test dataset:"
      ]
    },
    {
      "cell_type": "code",
      "execution_count": null,
      "metadata": {
        "id": "Pa0a8PcdIdnK",
        "colab": {
          "base_uri": "https://localhost:8080/"
        },
        "outputId": "ba3f595a-da84-4f53-99c1-70457461b681"
      },
      "outputs": [
        {
          "output_type": "stream",
          "name": "stdout",
          "text": [
            "313/313 [==============================] - 1s 1ms/step\n",
            "Test Accuracy: 0.7658\n"
          ]
        }
      ],
      "source": [
        "# Evaluate the Model\n",
        "pred_3 = model.predict(test_word2vec)\n",
        "pred_binary_3 = (pred_3 > 0.5).astype(int)\n",
        "\n",
        "accuracy_3 = accuracy_score(test_labels, pred_binary_3)\n",
        "print(f'Test Accuracy: {accuracy_3}')"
      ]
    },
    {
      "cell_type": "markdown",
      "metadata": {
        "id": "IIdPN7jwIuB_"
      },
      "source": [
        "#### 2.4.3 **Train your own Word2Vec model**\n",
        "In cases where we have enough data, training a new Word2Vec model may provide better results than using a pretrained one. Here, you will train your own Word2Vec model using the training data and then use it to create vector representations for the reviews.\n",
        "\n",
        "You can change the hyperparameters to train your Word2Vec model:\n",
        "* **vector_size**: The length of the vector that will be used to represent words.\n",
        "* **window**: The window sized used in the Word2Vec training\n",
        "* **min_count**: Minimum number of occurunces for a word to be included in the model.\n"
      ]
    },
    {
      "cell_type": "code",
      "execution_count": null,
      "metadata": {
        "id": "HbyDteDyI6wM"
      },
      "outputs": [],
      "source": [
        "# Converting sentences to list of words\n",
        "sentences = [sentence.split() for sentence in train_data]\n",
        "\n",
        "# Training model\n",
        "vector_size = 100\n",
        "window = 5\n",
        "min_count = 1\n",
        "\n",
        "w2v_model = Word2Vec(\n",
        "    sentences,\n",
        "    vector_size=vector_size,\n",
        "    window=window,\n",
        "    min_count=min_count,\n",
        "    workers=4)"
      ]
    },
    {
      "cell_type": "markdown",
      "metadata": {
        "id": "kRtjznn9Jd_C"
      },
      "source": [
        "Apply the same function you created above to create vector representations for the reviews from your trained Word2Vec model:"
      ]
    },
    {
      "cell_type": "code",
      "execution_count": null,
      "metadata": {
        "id": "WZXc1G6HJ1lz"
      },
      "outputs": [],
      "source": [
        "# Your solution\n",
        "# This function should convert each review to a fixed-sized vectoriz representation\n",
        "def vectorize(review):\n",
        "  words = word_tokenize(review.lower())\n",
        "  vectors = [w2v_model.wv[word] for word in words if word in w2v_model.wv.key_to_index]\n",
        "\n",
        "  if vectors:\n",
        "    review_vector = np.mean(vectors, axis=0)\n",
        "  else:\n",
        "    review_vector = np.zeros(w2v_model.vector_size)\n",
        "  return review_vector\n",
        "\n",
        "# Applying your function to convert the train and test reviews to vector representations\n",
        "# WRITE YOUR CODE HERE\n",
        "train_w2v = np.vstack([vectorize(review) for review in train_data])\n",
        "test_w2v = np.vstack([vectorize(review) for review in test_data])"
      ]
    },
    {
      "cell_type": "markdown",
      "metadata": {
        "id": "B4bnRmZKXO7q"
      },
      "source": [
        "Train a neural network:"
      ]
    },
    {
      "cell_type": "code",
      "execution_count": null,
      "metadata": {
        "id": "nHxZvwcQXaXr",
        "colab": {
          "base_uri": "https://localhost:8080/"
        },
        "outputId": "91fe0f63-c50b-4fec-938c-e0cbd3e68995"
      },
      "outputs": [
        {
          "output_type": "stream",
          "name": "stdout",
          "text": [
            "Model: \"sequential_7\"\n",
            "_________________________________________________________________\n",
            " Layer (type)                Output Shape              Param #   \n",
            "=================================================================\n",
            " dense_14 (Dense)            (None, 64)                6464      \n",
            "                                                                 \n",
            " dense_15 (Dense)            (None, 1)                 65        \n",
            "                                                                 \n",
            "=================================================================\n",
            "Total params: 6529 (25.50 KB)\n",
            "Trainable params: 6529 (25.50 KB)\n",
            "Non-trainable params: 0 (0.00 Byte)\n",
            "_________________________________________________________________\n",
            "Epoch 1/10\n",
            "750/750 [==============================] - 4s 4ms/step - loss: 0.4141 - accuracy: 0.8153 - val_loss: 0.3819 - val_accuracy: 0.8285\n",
            "Epoch 2/10\n",
            "750/750 [==============================] - 2s 3ms/step - loss: 0.3643 - accuracy: 0.8403 - val_loss: 0.3708 - val_accuracy: 0.8385\n",
            "Epoch 3/10\n",
            "750/750 [==============================] - 3s 4ms/step - loss: 0.3565 - accuracy: 0.8461 - val_loss: 0.3690 - val_accuracy: 0.8360\n",
            "Epoch 4/10\n",
            "750/750 [==============================] - 2s 2ms/step - loss: 0.3500 - accuracy: 0.8480 - val_loss: 0.3644 - val_accuracy: 0.8397\n",
            "Epoch 5/10\n",
            "750/750 [==============================] - 2s 2ms/step - loss: 0.3479 - accuracy: 0.8489 - val_loss: 0.3614 - val_accuracy: 0.8420\n",
            "Epoch 6/10\n",
            "750/750 [==============================] - 2s 2ms/step - loss: 0.3470 - accuracy: 0.8479 - val_loss: 0.3650 - val_accuracy: 0.8375\n",
            "Epoch 7/10\n",
            "750/750 [==============================] - 2s 3ms/step - loss: 0.3437 - accuracy: 0.8496 - val_loss: 0.3583 - val_accuracy: 0.8460\n",
            "Epoch 8/10\n",
            "750/750 [==============================] - 2s 3ms/step - loss: 0.3415 - accuracy: 0.8515 - val_loss: 0.3573 - val_accuracy: 0.8447\n",
            "Epoch 9/10\n",
            "750/750 [==============================] - 2s 2ms/step - loss: 0.3388 - accuracy: 0.8520 - val_loss: 0.3548 - val_accuracy: 0.8462\n",
            "Epoch 10/10\n",
            "750/750 [==============================] - 2s 2ms/step - loss: 0.3371 - accuracy: 0.8536 - val_loss: 0.3547 - val_accuracy: 0.8465\n"
          ]
        },
        {
          "output_type": "execute_result",
          "data": {
            "text/plain": [
              "<keras.src.callbacks.History at 0x7ae5846fabf0>"
            ]
          },
          "metadata": {},
          "execution_count": 104
        }
      ],
      "source": [
        "# Build the model\n",
        "num_features = w2v_model.vector_size\n",
        "\n",
        "model = Sequential()\n",
        "model.add(Dense(64, activation='relu', input_dim=num_features))\n",
        "model.add(Dense(1, activation='sigmoid'))\n",
        "\n",
        "# Compile the model\n",
        "# WRITE YOUR CODE HERE\n",
        "model.compile(optimizer='adam', loss='binary_crossentropy', metrics=['accuracy'])\n",
        "\n",
        "# Show model summary\n",
        "# WRITE YOUR CODE HERE\n",
        "model.summary()\n",
        "\n",
        "# Train the model\n",
        "# When fitting the model, set validation_split=0.20 to use 20% of the train data\n",
        "# for validation\n",
        "# WRITE YOUR CODE HERE\n",
        "epochs = 10\n",
        "batch_size = 32\n",
        "model.fit(train_w2v, train_labels, epochs=epochs, batch_size=batch_size, validation_split=0.2)"
      ]
    },
    {
      "cell_type": "markdown",
      "metadata": {
        "id": "86rLvA85XeoI"
      },
      "source": [
        "Evaluate the model on the test dataset:"
      ]
    },
    {
      "cell_type": "code",
      "execution_count": null,
      "metadata": {
        "id": "EwANruikXedY",
        "colab": {
          "base_uri": "https://localhost:8080/"
        },
        "outputId": "0d3f7360-48c3-41ba-a436-d24f2a966ef7"
      },
      "outputs": [
        {
          "output_type": "stream",
          "name": "stdout",
          "text": [
            "313/313 [==============================] - 1s 1ms/step\n",
            "Test Accuracy: 0.8439\n"
          ]
        }
      ],
      "source": [
        "# Evaluate the Model\n",
        "pred_4 = model.predict(test_w2v)\n",
        "pred_binary_4 = (pred_4 > 0.5).astype(int)\n",
        "\n",
        "accuracy_4 = accuracy_score(test_labels, pred_binary_4)\n",
        "print(f'Test Accuracy: {accuracy_4}')"
      ]
    }
  ],
  "metadata": {
    "colab": {
      "provenance": []
    },
    "kernelspec": {
      "display_name": "Python 3",
      "name": "python3"
    },
    "language_info": {
      "name": "python"
    }
  },
  "nbformat": 4,
  "nbformat_minor": 0
}